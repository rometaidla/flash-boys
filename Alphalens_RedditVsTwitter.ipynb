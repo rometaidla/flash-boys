{
  "nbformat": 4,
  "nbformat_minor": 5,
  "metadata": {
    "kernelspec": {
      "display_name": "Python 3",
      "language": "python",
      "name": "python3"
    },
    "language_info": {
      "codemirror_mode": {
        "name": "ipython",
        "version": 3
      },
      "file_extension": ".py",
      "mimetype": "text/x-python",
      "name": "python",
      "nbconvert_exporter": "python",
      "pygments_lexer": "ipython3",
      "version": "3.8.8"
    },
    "colab": {
      "name": "Alphalens-RedditVsTwitter.ipynb",
      "provenance": [],
      "collapsed_sections": [],
      "toc_visible": true
    }
  },
  "cells": [
    {
      "cell_type": "code",
      "metadata": {
        "id": "P87juc26Xwdp"
      },
      "source": [
        "!pip install --quiet yfinance\n",
        "!pip install --quiet alphalens"
      ],
      "id": "P87juc26Xwdp",
      "execution_count": 1,
      "outputs": []
    },
    {
      "cell_type": "code",
      "metadata": {
        "colab": {
          "base_uri": "https://localhost:8080/"
        },
        "id": "4GDH77_-8BmQ",
        "outputId": "1e1fcdfc-c33f-441f-a2b5-03942a5a40a8"
      },
      "source": [
        "from google.colab import drive\n",
        "drive.mount('/content/drive')"
      ],
      "id": "4GDH77_-8BmQ",
      "execution_count": 2,
      "outputs": [
        {
          "output_type": "stream",
          "text": [
            "Drive already mounted at /content/drive; to attempt to forcibly remount, call drive.mount(\"/content/drive\", force_remount=True).\n"
          ],
          "name": "stdout"
        }
      ]
    },
    {
      "cell_type": "code",
      "metadata": {
        "id": "JvUQKI_OYdaS"
      },
      "source": [
        "!mkdir -p sentiments\n",
        "!cp drive/MyDrive/nlp/sentiments/* sentiments"
      ],
      "id": "JvUQKI_OYdaS",
      "execution_count": 3,
      "outputs": []
    },
    {
      "cell_type": "code",
      "metadata": {
        "id": "jY8A8OyW7sHv"
      },
      "source": [
        "!cp drive/MyDrive/nlp/deps/prices.py .\n",
        "!cp drive/MyDrive/nlp/deps/plotter.py ."
      ],
      "id": "jY8A8OyW7sHv",
      "execution_count": 4,
      "outputs": []
    },
    {
      "cell_type": "code",
      "metadata": {
        "colab": {
          "base_uri": "https://localhost:8080/"
        },
        "id": "16039609",
        "outputId": "83d86ed1-f1e6-453d-b3e4-06586c5c3b2a"
      },
      "source": [
        "import pandas as pd\n",
        "import numpy as np\n",
        "import glob\n",
        "import matplotlib.pyplot as plt\n",
        "from datetime import datetime\n",
        "from tqdm.notebook import tqdm\n",
        "import yfinance as yf\n",
        "import alphalens as al\n",
        "\n",
        "from prices import read_stock_prices\n",
        "from plotter import plot\n",
        "\n",
        "%load_ext autoreload\n",
        "%autoreload 2"
      ],
      "id": "16039609",
      "execution_count": 5,
      "outputs": [
        {
          "output_type": "stream",
          "text": [
            "/usr/local/lib/python3.7/dist-packages/statsmodels/tools/_testing.py:19: FutureWarning: pandas.util.testing is deprecated. Use the functions in the public API at pandas.testing instead.\n",
            "  import pandas.util.testing as tm\n"
          ],
          "name": "stderr"
        }
      ]
    },
    {
      "cell_type": "code",
      "metadata": {
        "colab": {
          "base_uri": "https://localhost:8080/"
        },
        "id": "4f719608",
        "outputId": "bbc29745-876d-4c3c-c5e3-7155ede175ad"
      },
      "source": [
        "vader_df = pd.concat([pd.read_csv('sentiments/stocks_vader_mean_sentiment.csv'), \n",
        "                     pd.read_csv('sentiments/memestocks_vader_mean_sentiment.csv')])\n",
        "print(vader_df.shape)\n",
        "vader_df.Stock.unique()"
      ],
      "id": "4f719608",
      "execution_count": 6,
      "outputs": [
        {
          "output_type": "stream",
          "text": [
            "(720, 3)\n"
          ],
          "name": "stdout"
        },
        {
          "output_type": "execute_result",
          "data": {
            "text/plain": [
              "array(['AAPL', 'PLTR', 'TSLA', 'AMC', 'GME', 'NOK'], dtype=object)"
            ]
          },
          "metadata": {
            "tags": []
          },
          "execution_count": 6
        }
      ]
    },
    {
      "cell_type": "code",
      "metadata": {
        "colab": {
          "base_uri": "https://localhost:8080/"
        },
        "id": "9b280c1e",
        "outputId": "242f505d-8f96-420d-dae4-589cad522beb"
      },
      "source": [
        "roberta_reddit_df = pd.read_csv(\"sentiments/reddit-roberta-sentiment.csv\", index_col=0)\n",
        "roberta_twittr_df = pd.read_csv(\"sentiments/roberta-sentiment.csv\", index_col=0)\n",
        "\n",
        "print((roberta_reddit_df.shape, roberta_twittr_df.shape))\n",
        "print(roberta_reddit_df.Stock.unique())\n",
        "print(roberta_twittr_df.Stock.unique())"
      ],
      "id": "9b280c1e",
      "execution_count": 7,
      "outputs": [
        {
          "output_type": "stream",
          "text": [
            "((619, 3), (348, 3))\n",
            "['AMC' 'GME' 'NOK' 'PLTR' 'TSLA' 'AAPL']\n",
            "['AAPL' 'TSLA' 'PLTR']\n"
          ],
          "name": "stdout"
        }
      ]
    },
    {
      "cell_type": "markdown",
      "metadata": {
        "id": "4bebb62f"
      },
      "source": [
        "## Prices"
      ],
      "id": "4bebb62f"
    },
    {
      "cell_type": "code",
      "metadata": {
        "colab": {
          "base_uri": "https://localhost:8080/"
        },
        "id": "14c777a9",
        "outputId": "a0d3e769-914c-4fbd-dd17-30d8819e56a8"
      },
      "source": [
        "stocks = [\"AAPL\", \"TSLA\", \"PLTR\", \"NOK\"]\n",
        "price_data = read_stock_prices(stocks)\n",
        "\n",
        "print(price_data.shape)\n",
        "print(price_data.Stock.unique())"
      ],
      "id": "14c777a9",
      "execution_count": 8,
      "outputs": [
        {
          "output_type": "stream",
          "text": [
            "(388, 3)\n",
            "['AAPL' 'TSLA' 'PLTR' 'NOK']\n"
          ],
          "name": "stdout"
        }
      ]
    },
    {
      "cell_type": "markdown",
      "metadata": {
        "id": "820b1fa9"
      },
      "source": [
        "## Alphalens"
      ],
      "id": "820b1fa9"
    },
    {
      "cell_type": "code",
      "metadata": {
        "id": "6bbE7kCh0aJN"
      },
      "source": [
        "def getFactorReturnsCumprod(sentiments, stockPrices, convertDate = False):\n",
        "    # keep only stocks for which price data is available\n",
        "    sentimentsFiltered = sentiments[sentiments.Stock.isin(stockPrices.Stock.unique())]\n",
        "\n",
        "    if convertDate:\n",
        "        sentimentsFiltered['Date'] = sentimentsFiltered['Date'].astype('datetime64[ns]')\n",
        "\n",
        "    df = pd.merge(sentimentsFiltered, price_data, how = \"left\", on = [\"Date\", \"Stock\"])\n",
        "    df.dropna(inplace = True)\n",
        "\n",
        "    sentiment_df = df.pivot(index='Date', columns='Stock', values='Sentiment')\n",
        "    prices = stockPrices.pivot(index='Date', columns='Stock', values='Close')\n",
        "\n",
        "    clean_factor = al.utils.get_clean_factor_and_forward_returns(\n",
        "        sentiment_df.stack(), \n",
        "        prices, \n",
        "        quantiles=5, \n",
        "        bins=None, \n",
        "        periods=[1]\n",
        "    )\n",
        "\n",
        "    returns_data = al.performance.factor_returns(clean_factor).iloc[:, 0]\n",
        "    \n",
        "    return (1 + returns_data).cumprod()\n"
      ],
      "id": "6bbE7kCh0aJN",
      "execution_count": 9,
      "outputs": []
    },
    {
      "cell_type": "code",
      "metadata": {
        "colab": {
          "base_uri": "https://localhost:8080/",
          "height": 629
        },
        "id": "qx7OyHTg5qmC",
        "outputId": "f6988445-60bf-43f0-f2af-c4c44e99d62f"
      },
      "source": [
        "getFactorReturnsCumprod(roberta_twittr_df, price_data, convertDate=True).plot()\n",
        "getFactorReturnsCumprod(roberta_reddit_df, price_data, convertDate=True).plot()\n",
        "getFactorReturnsCumprod(vader_df, price_data, convertDate=True).plot()\n",
        "\n",
        "plt.legend([\n",
        "            \"roberta-twitter\",\n",
        "            \"roberta-reddit\",\n",
        "            \"vader-twitter\"\n",
        "])\n"
      ],
      "id": "qx7OyHTg5qmC",
      "execution_count": 10,
      "outputs": [
        {
          "output_type": "stream",
          "text": [
            "Dropped 0.0% entries from factor data: 0.0% in forward returns computation and 0.0% in binning phase (set max_loss=0 to see potentially suppressed Exceptions).\n",
            "max_loss is 35.0%, not exceeded: OK!\n"
          ],
          "name": "stdout"
        },
        {
          "output_type": "stream",
          "text": [
            "/usr/local/lib/python3.7/dist-packages/ipykernel_launcher.py:6: SettingWithCopyWarning: \n",
            "A value is trying to be set on a copy of a slice from a DataFrame.\n",
            "Try using .loc[row_indexer,col_indexer] = value instead\n",
            "\n",
            "See the caveats in the documentation: https://pandas.pydata.org/pandas-docs/stable/user_guide/indexing.html#returning-a-view-versus-a-copy\n",
            "  \n"
          ],
          "name": "stderr"
        },
        {
          "output_type": "stream",
          "text": [
            "Dropped 4.1% entries from factor data: 0.0% in forward returns computation and 4.1% in binning phase (set max_loss=0 to see potentially suppressed Exceptions).\n",
            "max_loss is 35.0%, not exceeded: OK!\n"
          ],
          "name": "stdout"
        },
        {
          "output_type": "stream",
          "text": [
            "/usr/local/lib/python3.7/dist-packages/ipykernel_launcher.py:6: SettingWithCopyWarning: \n",
            "A value is trying to be set on a copy of a slice from a DataFrame.\n",
            "Try using .loc[row_indexer,col_indexer] = value instead\n",
            "\n",
            "See the caveats in the documentation: https://pandas.pydata.org/pandas-docs/stable/user_guide/indexing.html#returning-a-view-versus-a-copy\n",
            "  \n"
          ],
          "name": "stderr"
        },
        {
          "output_type": "stream",
          "text": [
            "Dropped 0.0% entries from factor data: 0.0% in forward returns computation and 0.0% in binning phase (set max_loss=0 to see potentially suppressed Exceptions).\n",
            "max_loss is 35.0%, not exceeded: OK!\n"
          ],
          "name": "stdout"
        },
        {
          "output_type": "execute_result",
          "data": {
            "text/plain": [
              "<matplotlib.legend.Legend at 0x7f7077f67d50>"
            ]
          },
          "metadata": {
            "tags": []
          },
          "execution_count": 10
        },
        {
          "output_type": "display_data",
          "data": {
            "image/png": "[encoded data removed]",
            "text/plain": [
              "<Figure size 432x288 with 1 Axes>"
            ]
          },
          "metadata": {
            "tags": [],
            "needs_background": "light"
          }
        }
      ]
    }
  ]
}