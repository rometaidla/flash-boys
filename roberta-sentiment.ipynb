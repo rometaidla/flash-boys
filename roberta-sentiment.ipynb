{
 "cells": [
  {
   "cell_type": "code",
   "execution_count": 1,
   "id": "1a00f6ec",
   "metadata": {},
   "outputs": [],
   "source": [
    "from RobertaSentiment import RobertaSentimentModel\n",
    "import pandas as pd\n",
    "from tqdm.notebook import tqdm\n",
    "\n",
    "%load_ext autoreload\n",
    "%autoreload 2"
   ]
  },
  {
   "cell_type": "code",
   "execution_count": 2,
   "id": "73b34776",
   "metadata": {},
   "outputs": [],
   "source": [
    "roberta = RobertaSentimentModel()"
   ]
  },
  {
   "cell_type": "code",
   "execution_count": 4,
   "id": "06395fae",
   "metadata": {},
   "outputs": [
    {
     "data": {
      "text/plain": [
       "[{'negative_score': 0.0019502358045428991,\n",
       "  'neutral_score': 0.1953500360250473,\n",
       "  'positive_score': 0.8026998043060303,\n",
       "  'total_score': 0.8007495685014874},\n",
       " {'negative_score': 0.7156113982200623,\n",
       "  'neutral_score': 0.25811561942100525,\n",
       "  'positive_score': 0.026272978633642197,\n",
       "  'total_score': -0.6893384195864201}]"
      ]
     },
     "execution_count": 4,
     "metadata": {},
     "output_type": "execute_result"
    }
   ],
   "source": [
    "tweets = ['$AMC and $GME to the moon! Ryan Cohen can now put my plan into play.', \n",
    "      \"$TSLA is going to crash hard.\"]\n",
    "roberta.score(tweets)"
   ]
  },
  {
   "cell_type": "code",
   "execution_count": 3,
   "id": "f392aa6f",
   "metadata": {},
   "outputs": [
    {
     "data": {
      "text/html": [
       "<div>\n",
       "<style scoped>\n",
       "    .dataframe tbody tr th:only-of-type {\n",
       "        vertical-align: middle;\n",
       "    }\n",
       "\n",
       "    .dataframe tbody tr th {\n",
       "        vertical-align: top;\n",
       "    }\n",
       "\n",
       "    .dataframe thead th {\n",
       "        text-align: right;\n",
       "    }\n",
       "</style>\n",
       "<table border=\"1\" class=\"dataframe\">\n",
       "  <thead>\n",
       "    <tr style=\"text-align: right;\">\n",
       "      <th></th>\n",
       "      <th>url</th>\n",
       "      <th>date</th>\n",
       "      <th>content</th>\n",
       "    </tr>\n",
       "  </thead>\n",
       "  <tbody>\n",
       "    <tr>\n",
       "      <th>0</th>\n",
       "      <td>https://twitter.com/terichie64/status/13650887...</td>\n",
       "      <td>2021-02-25 23:58:16+00:00</td>\n",
       "      <td>Dow's 10-day moving average is going down. Put...</td>\n",
       "    </tr>\n",
       "    <tr>\n",
       "      <th>1</th>\n",
       "      <td>https://twitter.com/StckPro/status/13650881964...</td>\n",
       "      <td>2021-02-25 23:56:02+00:00</td>\n",
       "      <td>$AAPL $AMD $F NEW ARTICLE : TSM: Auto Chip Iss...</td>\n",
       "    </tr>\n",
       "    <tr>\n",
       "      <th>2</th>\n",
       "      <td>https://twitter.com/stockmktgenius/status/1365...</td>\n",
       "      <td>2021-02-25 23:55:51+00:00</td>\n",
       "      <td>Number of leading stocks today: 402 $SPY $QQQ ...</td>\n",
       "    </tr>\n",
       "    <tr>\n",
       "      <th>3</th>\n",
       "      <td>https://twitter.com/rizvi01/status/13650876492...</td>\n",
       "      <td>2021-02-25 23:53:52+00:00</td>\n",
       "      <td>$AAPL 16%, $AMZN 14%, $FB 16% $NFLX 8% $GOOG 6...</td>\n",
       "    </tr>\n",
       "    <tr>\n",
       "      <th>4</th>\n",
       "      <td>https://twitter.com/boulanger_jacob/status/136...</td>\n",
       "      <td>2021-02-25 23:50:12+00:00</td>\n",
       "      <td>The Best Penny Stock App #pennystock\\n$SBUX\\n$...</td>\n",
       "    </tr>\n",
       "    <tr>\n",
       "      <th>...</th>\n",
       "      <td>...</td>\n",
       "      <td>...</td>\n",
       "      <td>...</td>\n",
       "    </tr>\n",
       "    <tr>\n",
       "      <th>1443</th>\n",
       "      <td>https://twitter.com/DGDFL/status/1364727378149...</td>\n",
       "      <td>2021-02-25 00:02:17+00:00</td>\n",
       "      <td>$AAPL look at the last 12 years - has $appl fa...</td>\n",
       "    </tr>\n",
       "    <tr>\n",
       "      <th>1444</th>\n",
       "      <td>https://twitter.com/CitygirlJ/status/136472731...</td>\n",
       "      <td>2021-02-25 00:02:02+00:00</td>\n",
       "      <td>The guy you want to follow for awesome #stock ...</td>\n",
       "    </tr>\n",
       "    <tr>\n",
       "      <th>1445</th>\n",
       "      <td>https://twitter.com/SmartOptionsAi/status/1364...</td>\n",
       "      <td>2021-02-25 00:00:30+00:00</td>\n",
       "      <td>SmartOptions® Unusual Activity Alert\\n(Delayed...</td>\n",
       "    </tr>\n",
       "    <tr>\n",
       "      <th>1446</th>\n",
       "      <td>https://twitter.com/QuantData/status/136472687...</td>\n",
       "      <td>2021-02-25 00:00:17+00:00</td>\n",
       "      <td>6 Key Questions Apple Answered At The Annual S...</td>\n",
       "    </tr>\n",
       "    <tr>\n",
       "      <th>1447</th>\n",
       "      <td>https://twitter.com/LordDarlington5/status/136...</td>\n",
       "      <td>2021-02-25 00:00:14+00:00</td>\n",
       "      <td>\"There is no nobility in poverty.\" - Charlie S...</td>\n",
       "    </tr>\n",
       "  </tbody>\n",
       "</table>\n",
       "<p>1448 rows × 3 columns</p>\n",
       "</div>"
      ],
      "text/plain": [
       "                                                    url  \\\n",
       "0     https://twitter.com/terichie64/status/13650887...   \n",
       "1     https://twitter.com/StckPro/status/13650881964...   \n",
       "2     https://twitter.com/stockmktgenius/status/1365...   \n",
       "3     https://twitter.com/rizvi01/status/13650876492...   \n",
       "4     https://twitter.com/boulanger_jacob/status/136...   \n",
       "...                                                 ...   \n",
       "1443  https://twitter.com/DGDFL/status/1364727378149...   \n",
       "1444  https://twitter.com/CitygirlJ/status/136472731...   \n",
       "1445  https://twitter.com/SmartOptionsAi/status/1364...   \n",
       "1446  https://twitter.com/QuantData/status/136472687...   \n",
       "1447  https://twitter.com/LordDarlington5/status/136...   \n",
       "\n",
       "                           date  \\\n",
       "0     2021-02-25 23:58:16+00:00   \n",
       "1     2021-02-25 23:56:02+00:00   \n",
       "2     2021-02-25 23:55:51+00:00   \n",
       "3     2021-02-25 23:53:52+00:00   \n",
       "4     2021-02-25 23:50:12+00:00   \n",
       "...                         ...   \n",
       "1443  2021-02-25 00:02:17+00:00   \n",
       "1444  2021-02-25 00:02:02+00:00   \n",
       "1445  2021-02-25 00:00:30+00:00   \n",
       "1446  2021-02-25 00:00:17+00:00   \n",
       "1447  2021-02-25 00:00:14+00:00   \n",
       "\n",
       "                                                content  \n",
       "0     Dow's 10-day moving average is going down. Put...  \n",
       "1     $AAPL $AMD $F NEW ARTICLE : TSM: Auto Chip Iss...  \n",
       "2     Number of leading stocks today: 402 $SPY $QQQ ...  \n",
       "3     $AAPL 16%, $AMZN 14%, $FB 16% $NFLX 8% $GOOG 6...  \n",
       "4     The Best Penny Stock App #pennystock\\n$SBUX\\n$...  \n",
       "...                                                 ...  \n",
       "1443  $AAPL look at the last 12 years - has $appl fa...  \n",
       "1444  The guy you want to follow for awesome #stock ...  \n",
       "1445  SmartOptions® Unusual Activity Alert\\n(Delayed...  \n",
       "1446  6 Key Questions Apple Answered At The Annual S...  \n",
       "1447  \"There is no nobility in poverty.\" - Charlie S...  \n",
       "\n",
       "[1448 rows x 3 columns]"
      ]
     },
     "execution_count": 3,
     "metadata": {},
     "output_type": "execute_result"
    }
   ],
   "source": [
    "aapl_df = pd.read_csv('tweets3/AAPL_2021-02-25.csv')  \n",
    "aapl_df"
   ]
  },
  {
   "cell_type": "code",
   "execution_count": 5,
   "id": "0a8ff850",
   "metadata": {},
   "outputs": [
    {
     "name": "stdout",
     "output_type": "stream",
     "text": [
      "3.640841245651245\n"
     ]
    }
   ],
   "source": [
    "import time\n",
    "\n",
    "start_time = time.time()\n",
    "scores = roberta.score(aapl_df['content'].to_numpy())\n",
    "end_time = time.time()\n",
    "print(end_time-start_time)"
   ]
  },
  {
   "cell_type": "code",
   "execution_count": null,
   "id": "1810f51d",
   "metadata": {},
   "outputs": [],
   "source": []
  }
 ],
 "metadata": {
  "kernelspec": {
   "display_name": "transformers",
   "language": "python",
   "name": "transformers"
  },
  "language_info": {
   "codemirror_mode": {
    "name": "ipython",
    "version": 3
   },
   "file_extension": ".py",
   "mimetype": "text/x-python",
   "name": "python",
   "nbconvert_exporter": "python",
   "pygments_lexer": "ipython3",
   "version": "3.8.8"
  }
 },
 "nbformat": 4,
 "nbformat_minor": 5
}
